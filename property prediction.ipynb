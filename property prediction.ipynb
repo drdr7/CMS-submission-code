{
 "cells": [
  {
   "cell_type": "code",
   "execution_count": null,
   "metadata": {},
   "outputs": [],
   "source": [
    "import tensorflow as tf\n",
    "import numpy as np\n",
    "import matplotlib.pyplot as plt\n",
    "%matplotlib inline\n",
    "import keras\n",
    "import os\n",
    "from skimage import io\n",
    "from PIL import Image\n",
    "import csv\n",
    "import pandas as pd\n",
    "from keras.models import load_model"
   ]
  },
  {
   "cell_type": "code",
   "execution_count": null,
   "metadata": {},
   "outputs": [],
   "source": [
    "# 读取训练集图片\n",
    "filenames=os.listdir('D:/train/')\n",
    "\n",
    "filenames.sort(key=lambda x:int(x[:-4])) \n",
    "\n",
    "def read_image1(filename):\n",
    "    img = Image.open(('D:/train/')+filename).convert('RGB')\n",
    "    return np.array(img)\n",
    "\n",
    "x_train = []\n",
    "\n",
    "for i in filenames:  \n",
    "    x_train.append(read_image1(i))\n",
    "\n",
    "x_train = np.array(x_train)"
   ]
  },
  {
   "cell_type": "code",
   "execution_count": null,
   "metadata": {},
   "outputs": [],
   "source": [
    "# 导入训练集标签,y_train是训练集的标签\n",
    "y_train = []\n",
    "csv_file = csv.reader(open('D:/train.csv'))\n",
    "for content in csv_file:\n",
    "    content = list(map(float, content))\n",
    "    y_train.append(content)\n",
    "y_train = np.array(y_train)"
   ]
  },
  {
   "cell_type": "code",
   "execution_count": null,
   "metadata": {},
   "outputs": [],
   "source": [
    "# 读取测试集图片\n",
    "filenames=os.listdir('D:/test/')\n",
    "\n",
    "filenames.sort(key=lambda x:int(x[:-4])) \n",
    "\n",
    "def read_image1(filename):\n",
    "    img = Image.open(('D:/test/')+filename).convert('RGB')\n",
    "    return np.array(img)\n",
    "\n",
    "x_test = []\n",
    "\n",
    "for i in filenames:  \n",
    "    x_test.append(read_image1(i))\n",
    "\n",
    "x_test = np.array(x_test)"
   ]
  },
  {
   "cell_type": "code",
   "execution_count": null,
   "metadata": {},
   "outputs": [],
   "source": [
    "# 导入测试集标签,y_test是测试集的标签\n",
    "y_test = []\n",
    "csv_file = csv.reader(open('D:/test.csv'))\n",
    "for content in csv_file:\n",
    "    content = list(map(float, content))\n",
    "    y_test.append(content)\n",
    "y_test = np.array(y_test)"
   ]
  },
  {
   "cell_type": "code",
   "execution_count": null,
   "metadata": {},
   "outputs": [],
   "source": [
    "# 将特征点从0~255转换成0~1提高特征提取精度\n",
    "x_train = x_train.astype('float32')\n",
    "x_test = x_test.astype('float32')\n",
    "x_train_normalize = x_train / 255 \n",
    "x_test_normalize = x_test / 255"
   ]
  },
  {
   "cell_type": "code",
   "execution_count": null,
   "metadata": {},
   "outputs": [],
   "source": [
    "# 模型架构\n",
    "from keras.models import Sequential\n",
    "from keras.layers import  Activation, Dense, Flatten, Dropout\n",
    "from keras.layers.convolutional import Conv2D, MaxPooling2D\n",
    "\n",
    "model = Sequential()\n",
    "model.add(Conv2D(32, (3, 3), strides=(1, 1), input_shape=(336, 336, 3), padding='same', activation='relu', kernel_initializer='uniform'))\n",
    "model.add(Conv2D(32, (3, 3), strides=(1, 1), padding='same', activation='relu', kernel_initializer='uniform'))\n",
    "model.add(MaxPooling2D(pool_size=(2, 2)))\n",
    "model.add(Conv2D(64, (3, 3), strides=(1, 1), padding='same', activation='relu', kernel_initializer='uniform'))\n",
    "model.add(Conv2D(64, (3, 3), strides=(1, 1), padding='same', activation='relu', kernel_initializer='uniform'))\n",
    "model.add(Conv2D(64, (3, 3), strides=(1, 1), padding='same', activation='relu', kernel_initializer='uniform'))\n",
    "model.add(MaxPooling2D(pool_size=(2, 2)))\n",
    "model.add(Conv2D(64, (3, 3), strides=(1, 1), padding='same', activation='relu', kernel_initializer='uniform'))\n",
    "model.add(Conv2D(64, (3, 3), strides=(1, 1), padding='same', activation='relu', kernel_initializer='uniform'))\n",
    "model.add(Conv2D(64, (3, 3), strides=(1, 1), padding='same', activation='relu', kernel_initializer='uniform'))\n",
    "model.add(MaxPooling2D(pool_size=(2, 2)))\n",
    "model.add(Flatten())\n",
    "model.add(Dense(1024, activation='relu'))\n",
    "model.add(Dropout(0.6))\n",
    "model.add(keras.layers.BatchNormalization())\n",
    "model.add(Dense(1024, activation='relu'))\n",
    "model.add(Dense(1))\n",
    "model.summary()"
   ]
  },
  {
   "cell_type": "code",
   "execution_count": null,
   "metadata": {
    "scrolled": true
   },
   "outputs": [],
   "source": [
    "#设置模型参数\n",
    "from keras.optimizers import Adam\n",
    "model.compile(optimizer =Adam(lr = 1e-4),\n",
    "              loss = 'mean_absolute_error')"
   ]
  },
  {
   "cell_type": "code",
   "execution_count": null,
   "metadata": {
    "scrolled": true
   },
   "outputs": [],
   "source": [
    "#训练\n",
    "history = model.fit(x_train_normalize, y_train, \n",
    "                    validation_split = 0.25, epochs = 300, batch_size = 64, verbose = 2)"
   ]
  },
  {
   "cell_type": "code",
   "execution_count": null,
   "metadata": {
    "scrolled": true
   },
   "outputs": [],
   "source": [
    "model.evaluate(x_test_normalize, y_test)"
   ]
  },
  {
   "cell_type": "code",
   "execution_count": null,
   "metadata": {},
   "outputs": [],
   "source": [
    "pred = model.predict(x_test_normalize)\n",
    "print(pred)"
   ]
  },
  {
   "cell_type": "code",
   "execution_count": null,
   "metadata": {
    "scrolled": true
   },
   "outputs": [],
   "source": [
    "pred_1 = model.predict(x_train_normalize)\n",
    "print(pred_1)"
   ]
  },
  {
   "cell_type": "code",
   "execution_count": null,
   "metadata": {},
   "outputs": [],
   "source": [
    "def show_train_history(train_history, train, validation):\n",
    "    plt.plot(train_history.history[train])  \n",
    "    plt.plot(train_history.history[validation])\n",
    "    plt.title('Train History')\n",
    "    plt.xlabel('Epoch')\n",
    "    plt.ylabel(train)  \n",
    "    plt.legend(['train', 'validation'], loc = 'best') \n",
    "    \n",
    "show_train_history(history, 'loss', 'val_loss') "
   ]
  },
  {
   "cell_type": "code",
   "execution_count": null,
   "metadata": {},
   "outputs": [],
   "source": [
    "#测试集散点图\n",
    "x=np.linspace(350,600,1000)\n",
    "y=x\n",
    "plt.plot(x,y,color='blue',linestyle='--')\n",
    "plt.title('Test vs Prediction')\n",
    "plt.xlabel('Test')\n",
    "plt.ylabel('Prediction')\n",
    "plt.scatter(y_test,pred,s=9.,color='red')"
   ]
  },
  {
   "cell_type": "code",
   "execution_count": null,
   "metadata": {},
   "outputs": [],
   "source": [
    "#训练集散点图\n",
    "x=np.linspace(350,600,1000)\n",
    "y=x\n",
    "plt.plot(x,y,color='blue',linestyle='--')\n",
    "plt.title('Train vs Prediction')\n",
    "plt.xlabel('Train')\n",
    "plt.ylabel('Prediction')\n",
    "plt.scatter(y_train,pred_1,s=9.,color='red')"
   ]
  },
  {
   "cell_type": "code",
   "execution_count": null,
   "metadata": {},
   "outputs": [],
   "source": [
    "# R2&MAE计算公式\n",
    "def r2_mae(y_act, y_pre):\n",
    "    error = []\n",
    "    for ap in range(len(y_act)):\n",
    "        error.append(y_act[ap] - y_pre[ap])\n",
    "        '''\n",
    "        print(\"Errors: \", Error)\n",
    "        print(Error)\n",
    "        '''\n",
    "    squared_error = []\n",
    "    abs_error = []\n",
    "    for ae in error:\n",
    "        squared_error.append(ae * ae)  \n",
    "        abs_error.append(abs(ae))  \n",
    "    target_deviation = []\n",
    "    target_mean = sum(y_act) / len(y_act) \n",
    "    for ac in y_act:\n",
    "        target_deviation.append((ac - target_mean) * (ac - target_mean))\n",
    "    r1 = []\n",
    "    for n in range(len(y_act)):\n",
    "        r1.append(y_act[n] * y_pre[n])\n",
    "    r2 = np.square(len(y_act) * sum(r1) - sum(y_act) * sum(y_pre))\n",
    "    r3 = []\n",
    "    for n in range(len(y_act)):\n",
    "        r3.append(y_pre[n] * y_pre[n])\n",
    "    r4 = len(y_act) * sum(r3) - sum(y_pre) * sum(y_pre)\n",
    "    r5 = []\n",
    "    for n in range(len(y_act)):\n",
    "        r5.append(y_act[n] * y_act[n])\n",
    "    r6 = len(y_act) * sum(r5) - sum(y_act) * sum(y_act)\n",
    "    rr2 = r2 / (r4 * r6)\n",
    "    mae = sum(abs_error) / len(abs_error)\n",
    "    return rr2, mae"
   ]
  },
  {
   "cell_type": "code",
   "execution_count": null,
   "metadata": {},
   "outputs": [],
   "source": [
    "r2_mae(y_test,pred)"
   ]
  },
  {
   "cell_type": "code",
   "execution_count": null,
   "metadata": {},
   "outputs": [],
   "source": [
    "r2_mae(y_train,pred_1)"
   ]
  },
  {
   "cell_type": "code",
   "execution_count": null,
   "metadata": {},
   "outputs": [],
   "source": [
    "#保存模型\n",
    "model.save('D:/DP.h5')"
   ]
  }
 ],
 "metadata": {
  "kernelspec": {
   "display_name": "myconda",
   "language": "python",
   "name": "myconda"
  },
  "language_info": {
   "codemirror_mode": {
    "name": "ipython",
    "version": 3
   },
   "file_extension": ".py",
   "mimetype": "text/x-python",
   "name": "python",
   "nbconvert_exporter": "python",
   "pygments_lexer": "ipython3",
   "version": "3.9.12"
  }
 },
 "nbformat": 4,
 "nbformat_minor": 4
}
