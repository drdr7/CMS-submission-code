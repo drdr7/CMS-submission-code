{
 "cells": [
  {
   "cell_type": "code",
   "execution_count": null,
   "metadata": {},
   "outputs": [],
   "source": [
    "import tensorflow as tf\n",
    "import numpy as np\n",
    "import matplotlib.pyplot as plt\n",
    "%matplotlib inline\n",
    "import keras\n",
    "import os\n",
    "from skimage import io\n",
    "from PIL import Image\n",
    "import csv\n",
    "import pandas as pd\n",
    "from keras.models import load_model\n",
    "from keras import backend as K\n",
    "import cv2"
   ]
  },
  {
   "cell_type": "code",
   "execution_count": null,
   "metadata": {},
   "outputs": [],
   "source": [
    "#加载模型\n",
    "K.clear_session()\n",
    "model = load_model('D:/DP.h5')"
   ]
  },
  {
   "cell_type": "code",
   "execution_count": null,
   "metadata": {},
   "outputs": [],
   "source": [
    "# 读取原图\n",
    "filenames=os.listdir('D:/pic1/')\n",
    "\n",
    "\n",
    "def read_image2(filename):\n",
    "    img = Image.open(('D:/pic1/')+filename).convert('RGB')\n",
    "    return np.array(img)\n",
    "\n",
    "y = []\n",
    "\n",
    "for i in filenames:  \n",
    "    y.append(read_image2(i))\n",
    "\n",
    "y = np.array(y)"
   ]
  },
  {
   "cell_type": "code",
   "execution_count": null,
   "metadata": {},
   "outputs": [],
   "source": [
    "y = y.astype('float32')\n",
    "y_normalize = y / 255"
   ]
  },
  {
   "cell_type": "code",
   "execution_count": null,
   "metadata": {},
   "outputs": [],
   "source": [
    "#预测原图性能\n",
    "y_pred = model.predict(y_normalize)\n",
    "print(y_pred)"
   ]
  },
  {
   "cell_type": "code",
   "execution_count": null,
   "metadata": {},
   "outputs": [],
   "source": [
    "#生成原图对应的可视化热图\n",
    "pic_output = model.output\n",
    "last_conv_layer= model.get_layer('conv2d_7')\n",
    "grads = K.gradients(pic_output, last_conv_layer.output)[0]\n",
    "pooled_grads = K.mean(grads, axis=(0, 1, 2))\n",
    "iterate = K.function([model.input], [pooled_grads, last_conv_layer.output[0]])\n",
    "pooled_grads_value, conv_layer_output_value = iterate([y_normalize])\n",
    "for i in range(64):     \n",
    "    conv_layer_output_value[:, :, i] *= pooled_grads_value[i] \n",
    "heatmap = np.mean(conv_layer_output_value, axis=-1) \n",
    "heatmap = np.maximum(heatmap, 0)\n",
    "heatmap /= np.max(heatmap)\n",
    "plt.matshow(heatmap)\n",
    "plt.show()"
   ]
  },
  {
   "cell_type": "code",
   "execution_count": null,
   "metadata": {},
   "outputs": [],
   "source": [
    "#将可视化热图与原图叠放\n",
    "img = cv2.imread('D:/pic1/1.tif')\n",
    "heatmap = cv2.resize(heatmap, (336, 336)) \n",
    "heatmap = np.uint8(255 * heatmap)\n",
    "heatmap = cv2.applyColorMap(heatmap, cv2.COLORMAP_JET) \n",
    "superimposed_img = heatmap * 0.4 + img\n",
    "cv2.imwrite('D:/pic1/2.tif',superimposed_img ) "
   ]
  }
 ],
 "metadata": {
  "kernelspec": {
   "display_name": "myconda",
   "language": "python",
   "name": "myconda"
  },
  "language_info": {
   "codemirror_mode": {
    "name": "ipython",
    "version": 3
   },
   "file_extension": ".py",
   "mimetype": "text/x-python",
   "name": "python",
   "nbconvert_exporter": "python",
   "pygments_lexer": "ipython3",
   "version": "3.9.12"
  }
 },
 "nbformat": 4,
 "nbformat_minor": 4
}
